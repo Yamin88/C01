{
  "nbformat": 4,
  "nbformat_minor": 0,
  "metadata": {
    "colab": {
      "provenance": []
    },
    "kernelspec": {
      "name": "python3",
      "display_name": "Python 3"
    },
    "language_info": {
      "name": "python"
    }
  },
  "cells": [
    {
      "cell_type": "markdown",
      "source": [
        "Problem : Predicting the prices of houses based on their characteristics\n",
        "\n",
        "Method  : Probability-based learning\n",
        "\n",
        "Model   : Bayesian regression"
      ],
      "metadata": {
        "id": "b-2gGbRs6_xC"
      }
    },
    {
      "cell_type": "code",
      "execution_count": 10,
      "metadata": {
        "colab": {
          "base_uri": "https://localhost:8080/"
        },
        "id": "jGG0W2sp6i2p",
        "outputId": "0c93e905-f9f6-4768-c24c-c4940bf22127"
      },
      "outputs": [
        {
          "output_type": "stream",
          "name": "stdout",
          "text": [
            "Mean Squared Error: 4906991239.61\n",
            "Mean Absolute Error: 50661.80\n",
            "R^2 Score: 0.63\n"
          ]
        }
      ],
      "source": [
        "# Import required libraries\n",
        "import pandas as pd\n",
        "import numpy as np\n",
        "from sklearn.model_selection import train_test_split\n",
        "from sklearn.preprocessing import StandardScaler\n",
        "from sklearn.linear_model import BayesianRidge\n",
        "from sklearn.metrics import mean_squared_error, mean_absolute_error, r2_score\n",
        "\n",
        "# Load the dataset\n",
        "housing_data = pd.read_csv('https://raw.githubusercontent.com/Yamin88/datasets/main/california_housing.csv')\n",
        "\n",
        "# Encode categorical variable using one-hot encoding\n",
        "housing_data = pd.get_dummies(housing_data, columns=['ocean_proximity'])\n",
        "\n",
        "# Impute missing values using median value of each column\n",
        "housing_data = housing_data.fillna(housing_data.median())\n",
        "\n",
        "# Split the dataset into training and testing sets\n",
        "X_train, X_test, y_train, y_test = train_test_split(housing_data.drop(columns=['median_house_value']), \n",
        "                                                    housing_data['median_house_value'], \n",
        "                                                    test_size=0.2, random_state=42)\n",
        "\n",
        "# Scale the features\n",
        "scaler = StandardScaler()\n",
        "X_train_scaled = scaler.fit_transform(X_train)\n",
        "X_test_scaled = scaler.transform(X_test)\n",
        "\n",
        "# Feature Selection\n",
        "corr_matrix = housing_data.corr()\n",
        "corr_matrix['median_house_value'].sort_values(ascending=False)\n",
        "\n",
        "# The most important features are median_income, total_rooms, housing_median_age, and latitude.\n",
        "\n",
        "# Train the Bayesian regression model\n",
        "bayesian_reg = BayesianRidge()\n",
        "bayesian_reg.fit(X_train_scaled, y_train)\n",
        "\n",
        "# Make predictions on the testing set\n",
        "y_pred = bayesian_reg.predict(X_test_scaled)\n",
        "\n",
        "# Evaluate the performance of the model\n",
        "mse = mean_squared_error(y_test, y_pred)\n",
        "mae = mean_absolute_error(y_test, y_pred)\n",
        "r2 = r2_score(y_test, y_pred)\n",
        "print('Mean Squared Error: {:.2f}'.format(mse))\n",
        "print('Mean Absolute Error: {:.2f}'.format(mae))\n",
        "print('R^2 Score: {:.2f}'.format(r2))\n"
      ]
    }
  ]
}